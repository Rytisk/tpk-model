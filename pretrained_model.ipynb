{
 "cells": [
  {
   "cell_type": "code",
   "execution_count": 32,
   "metadata": {
    "collapsed": false
   },
   "outputs": [],
   "source": [
    "import numpy as np\n",
    "from keras.preprocessing.image import ImageDataGenerator\n",
    "from keras.models import Sequential\n",
    "from keras.layers import Dropout, Flatten, Dense\n",
    "from keras import applications\n",
    "\n",
    "# dimensions of our images.\n",
    "img_width, img_height = 150, 150\n",
    "\n",
    "top_model_weights_path = 'bottleneck_fc_model.h5'\n",
    "train_data_dir = 'data/train'\n",
    "validation_data_dir = 'data/validation'\n",
    "nb_train_samples = 3000\n",
    "nb_validation_samples = 1000\n",
    "epochs = 50\n",
    "batch_size = 20"
   ]
  },
  {
   "cell_type": "code",
   "execution_count": 33,
   "metadata": {
    "collapsed": true
   },
   "outputs": [],
   "source": [
    "def save_bottlebeck_features():\n",
    "    datagen = ImageDataGenerator(rescale=1. / 255)\n",
    "\n",
    "    # build the VGG16 network\n",
    "    model = applications.VGG16(include_top=False, weights='imagenet')\n",
    "\n",
    "    generator = datagen.flow_from_directory(\n",
    "        train_data_dir,\n",
    "        target_size=(img_width, img_height),\n",
    "        batch_size=batch_size,\n",
    "        class_mode=None,\n",
    "        shuffle=False)\n",
    "    bottleneck_features_train = model.predict_generator(\n",
    "        generator, nb_train_samples // batch_size)\n",
    "    np.save(open('bottleneck_features_train.npy', 'wb'),\n",
    "            bottleneck_features_train)\n",
    "\n",
    "    generator = datagen.flow_from_directory(\n",
    "        validation_data_dir,\n",
    "        target_size=(img_width, img_height),\n",
    "        batch_size=batch_size,\n",
    "        class_mode=None,\n",
    "        shuffle=False)\n",
    "    bottleneck_features_validation = model.predict_generator(\n",
    "        generator, nb_validation_samples // batch_size)\n",
    "    np.save(open('bottleneck_features_validation.npy', 'wb'),\n",
    "            bottleneck_features_validation)\n",
    "\n",
    "\n",
    "def train_top_model():\n",
    "    train_data = np.load(open('bottleneck_features_train.npy', 'rb'))\n",
    "    train_labels = np.array(\n",
    "        [0] * (nb_train_samples // 2) + [1] * (nb_train_samples // 2))\n",
    "\n",
    "    validation_data = np.load(open('bottleneck_features_validation.npy', 'rb'))\n",
    "    validation_labels = np.array(\n",
    "        [0] * (nb_validation_samples // 2) + [1] * (nb_validation_samples // 2))\n",
    "\n",
    "    model = Sequential()\n",
    "    model.add(Flatten(input_shape=train_data.shape[1:]))\n",
    "    model.add(Dense(256, activation='relu'))\n",
    "    model.add(Dropout(0.5))\n",
    "    model.add(Dense(1, activation='sigmoid'))\n",
    "\n",
    "    model.compile(optimizer='rmsprop',\n",
    "                  loss='binary_crossentropy', metrics=['accuracy'])\n",
    "\n",
    "    model.fit(train_data, train_labels,\n",
    "              epochs=epochs,\n",
    "              batch_size=batch_size,\n",
    "              validation_data=(validation_data, validation_labels))\n",
    "    model.save_weights(top_model_weights_path)\n"
   ]
  },
  {
   "cell_type": "code",
   "execution_count": 34,
   "metadata": {
    "collapsed": false
   },
   "outputs": [
    {
     "name": "stdout",
     "output_type": "stream",
     "text": [
      "Found 3000 images belonging to 2 classes.\n",
      "Found 1000 images belonging to 2 classes.\n"
     ]
    }
   ],
   "source": [
    "save_bottlebeck_features()"
   ]
  },
  {
   "cell_type": "code",
   "execution_count": 35,
   "metadata": {
    "collapsed": false
   },
   "outputs": [
    {
     "name": "stdout",
     "output_type": "stream",
     "text": [
      "Train on 3000 samples, validate on 1000 samples\n",
      "Epoch 1/50\n",
      "3000/3000 [==============================] - 1s 366us/step - loss: 0.6304 - acc: 0.7803 - val_loss: 0.2799 - val_acc: 0.8790\n",
      "Epoch 2/50\n",
      "3000/3000 [==============================] - 1s 260us/step - loss: 0.3287 - acc: 0.8613 - val_loss: 0.2593 - val_acc: 0.8880\n",
      "Epoch 3/50\n",
      "3000/3000 [==============================] - 1s 257us/step - loss: 0.2849 - acc: 0.8880 - val_loss: 0.2645 - val_acc: 0.8910\n",
      "Epoch 4/50\n",
      "3000/3000 [==============================] - 1s 255us/step - loss: 0.2610 - acc: 0.8997 - val_loss: 0.2631 - val_acc: 0.8880\n",
      "Epoch 5/50\n",
      "3000/3000 [==============================] - 1s 254us/step - loss: 0.2157 - acc: 0.9180 - val_loss: 0.3008 - val_acc: 0.8810\n",
      "Epoch 6/50\n",
      "3000/3000 [==============================] - 1s 260us/step - loss: 0.1931 - acc: 0.9263 - val_loss: 0.3479 - val_acc: 0.8810\n",
      "Epoch 7/50\n",
      "3000/3000 [==============================] - 1s 260us/step - loss: 0.1782 - acc: 0.9310 - val_loss: 0.3308 - val_acc: 0.8830\n",
      "Epoch 8/50\n",
      "3000/3000 [==============================] - 1s 257us/step - loss: 0.1672 - acc: 0.9400 - val_loss: 0.2976 - val_acc: 0.8940\n",
      "Epoch 9/50\n",
      "3000/3000 [==============================] - 1s 258us/step - loss: 0.1540 - acc: 0.9440 - val_loss: 0.4034 - val_acc: 0.8640\n",
      "Epoch 10/50\n",
      "3000/3000 [==============================] - 1s 258us/step - loss: 0.1274 - acc: 0.9510 - val_loss: 0.5191 - val_acc: 0.8760\n",
      "Epoch 11/50\n",
      "3000/3000 [==============================] - 1s 258us/step - loss: 0.1104 - acc: 0.9563 - val_loss: 0.4755 - val_acc: 0.8720\n",
      "Epoch 12/50\n",
      "3000/3000 [==============================] - 1s 260us/step - loss: 0.1025 - acc: 0.9633 - val_loss: 0.4814 - val_acc: 0.8920\n",
      "Epoch 13/50\n",
      "3000/3000 [==============================] - 1s 257us/step - loss: 0.0935 - acc: 0.9650 - val_loss: 0.4103 - val_acc: 0.8770\n",
      "Epoch 14/50\n",
      "3000/3000 [==============================] - 1s 258us/step - loss: 0.0854 - acc: 0.9683 - val_loss: 0.4824 - val_acc: 0.8830\n",
      "Epoch 15/50\n",
      "3000/3000 [==============================] - 1s 255us/step - loss: 0.0856 - acc: 0.9713 - val_loss: 0.4461 - val_acc: 0.8880\n",
      "Epoch 16/50\n",
      "3000/3000 [==============================] - 1s 259us/step - loss: 0.0631 - acc: 0.9780 - val_loss: 0.5907 - val_acc: 0.8600\n",
      "Epoch 17/50\n",
      "3000/3000 [==============================] - 1s 260us/step - loss: 0.0692 - acc: 0.9763 - val_loss: 0.4678 - val_acc: 0.8850\n",
      "Epoch 18/50\n",
      "3000/3000 [==============================] - 1s 255us/step - loss: 0.0608 - acc: 0.9830 - val_loss: 0.5105 - val_acc: 0.8780\n",
      "Epoch 19/50\n",
      "3000/3000 [==============================] - 1s 253us/step - loss: 0.0428 - acc: 0.9797 - val_loss: 0.5590 - val_acc: 0.8880\n",
      "Epoch 20/50\n",
      "3000/3000 [==============================] - 1s 258us/step - loss: 0.0522 - acc: 0.9820 - val_loss: 0.6028 - val_acc: 0.8830\n",
      "Epoch 21/50\n",
      "3000/3000 [==============================] - 1s 262us/step - loss: 0.0504 - acc: 0.9830 - val_loss: 0.6105 - val_acc: 0.8880\n",
      "Epoch 22/50\n",
      "3000/3000 [==============================] - 1s 256us/step - loss: 0.0427 - acc: 0.9857 - val_loss: 0.5690 - val_acc: 0.8840\n",
      "Epoch 23/50\n",
      "3000/3000 [==============================] - 1s 255us/step - loss: 0.0378 - acc: 0.9853 - val_loss: 0.5923 - val_acc: 0.8840\n",
      "Epoch 24/50\n",
      "3000/3000 [==============================] - 1s 257us/step - loss: 0.0443 - acc: 0.9880 - val_loss: 0.5288 - val_acc: 0.8990\n",
      "Epoch 25/50\n",
      "3000/3000 [==============================] - 1s 258us/step - loss: 0.0482 - acc: 0.9867 - val_loss: 0.6178 - val_acc: 0.8980\n",
      "Epoch 26/50\n",
      "3000/3000 [==============================] - 1s 261us/step - loss: 0.0404 - acc: 0.9897 - val_loss: 0.6384 - val_acc: 0.8940\n",
      "Epoch 27/50\n",
      "3000/3000 [==============================] - 1s 253us/step - loss: 0.0359 - acc: 0.9870 - val_loss: 0.7405 - val_acc: 0.8920\n",
      "Epoch 28/50\n",
      "3000/3000 [==============================] - 1s 259us/step - loss: 0.0368 - acc: 0.9900 - val_loss: 0.7442 - val_acc: 0.8880\n",
      "Epoch 29/50\n",
      "3000/3000 [==============================] - 1s 259us/step - loss: 0.0273 - acc: 0.9890 - val_loss: 0.6520 - val_acc: 0.8950\n",
      "Epoch 30/50\n",
      "3000/3000 [==============================] - 1s 260us/step - loss: 0.0271 - acc: 0.9910 - val_loss: 0.8469 - val_acc: 0.8830\n",
      "Epoch 31/50\n",
      "3000/3000 [==============================] - 1s 258us/step - loss: 0.0263 - acc: 0.9920 - val_loss: 0.7225 - val_acc: 0.8800\n",
      "Epoch 32/50\n",
      "3000/3000 [==============================] - 1s 256us/step - loss: 0.0233 - acc: 0.9937 - val_loss: 0.7681 - val_acc: 0.8900\n",
      "Epoch 33/50\n",
      "3000/3000 [==============================] - 1s 261us/step - loss: 0.0262 - acc: 0.9923 - val_loss: 0.8433 - val_acc: 0.8870\n",
      "Epoch 34/50\n",
      "3000/3000 [==============================] - 1s 253us/step - loss: 0.0231 - acc: 0.9933 - val_loss: 0.7729 - val_acc: 0.8860\n",
      "Epoch 35/50\n",
      "3000/3000 [==============================] - 1s 259us/step - loss: 0.0152 - acc: 0.9963 - val_loss: 0.7689 - val_acc: 0.8890\n",
      "Epoch 36/50\n",
      "3000/3000 [==============================] - 1s 259us/step - loss: 0.0103 - acc: 0.9957 - val_loss: 0.7871 - val_acc: 0.8910\n",
      "Epoch 37/50\n",
      "3000/3000 [==============================] - 1s 257us/step - loss: 0.0312 - acc: 0.9930 - val_loss: 0.7950 - val_acc: 0.8930\n",
      "Epoch 38/50\n",
      "3000/3000 [==============================] - 1s 253us/step - loss: 0.0223 - acc: 0.9943 - val_loss: 0.8015 - val_acc: 0.8960\n",
      "Epoch 39/50\n",
      "3000/3000 [==============================] - 1s 255us/step - loss: 0.0123 - acc: 0.9960 - val_loss: 0.8174 - val_acc: 0.8950\n",
      "Epoch 40/50\n",
      "3000/3000 [==============================] - 1s 252us/step - loss: 0.0186 - acc: 0.9953 - val_loss: 0.8425 - val_acc: 0.8850\n",
      "Epoch 41/50\n",
      "3000/3000 [==============================] - 1s 257us/step - loss: 0.0260 - acc: 0.9930 - val_loss: 0.7902 - val_acc: 0.8850\n",
      "Epoch 42/50\n",
      "3000/3000 [==============================] - 1s 257us/step - loss: 0.0213 - acc: 0.9943 - val_loss: 0.8525 - val_acc: 0.8900\n",
      "Epoch 43/50\n",
      "3000/3000 [==============================] - 1s 259us/step - loss: 0.0130 - acc: 0.9953 - val_loss: 0.8978 - val_acc: 0.8910\n",
      "Epoch 44/50\n",
      "3000/3000 [==============================] - 1s 258us/step - loss: 0.0222 - acc: 0.9920 - val_loss: 0.8886 - val_acc: 0.8860\n",
      "Epoch 45/50\n",
      "3000/3000 [==============================] - 1s 253us/step - loss: 0.0211 - acc: 0.9933 - val_loss: 0.8535 - val_acc: 0.8900\n",
      "Epoch 46/50\n",
      "3000/3000 [==============================] - 1s 255us/step - loss: 0.0295 - acc: 0.9930 - val_loss: 0.8344 - val_acc: 0.8930\n",
      "Epoch 47/50\n",
      "3000/3000 [==============================] - 1s 259us/step - loss: 0.0150 - acc: 0.9960 - val_loss: 0.9003 - val_acc: 0.8730\n",
      "Epoch 48/50\n",
      "3000/3000 [==============================] - 1s 258us/step - loss: 0.0102 - acc: 0.9963 - val_loss: 0.9091 - val_acc: 0.8860\n",
      "Epoch 49/50\n",
      "3000/3000 [==============================] - 1s 258us/step - loss: 0.0148 - acc: 0.9957 - val_loss: 0.8839 - val_acc: 0.8880\n",
      "Epoch 50/50\n",
      "3000/3000 [==============================] - 1s 259us/step - loss: 0.0065 - acc: 0.9977 - val_loss: 0.9258 - val_acc: 0.8910\n"
     ]
    }
   ],
   "source": [
    "train_top_model()"
   ]
  },
  {
   "cell_type": "code",
   "execution_count": null,
   "metadata": {
    "collapsed": true
   },
   "outputs": [],
   "source": []
  }
 ],
 "metadata": {
  "kernelspec": {
   "display_name": "Python 3",
   "language": "python",
   "name": "python3"
  },
  "language_info": {
   "codemirror_mode": {
    "name": "ipython",
    "version": 3
   },
   "file_extension": ".py",
   "mimetype": "text/x-python",
   "name": "python",
   "nbconvert_exporter": "python",
   "pygments_lexer": "ipython3",
   "version": "3.5.2"
  }
 },
 "nbformat": 4,
 "nbformat_minor": 0
}
