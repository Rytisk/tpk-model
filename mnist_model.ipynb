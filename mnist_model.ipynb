{
 "cells": [
  {
   "cell_type": "markdown",
   "metadata": {},
   "source": [
    "# Imports"
   ]
  },
  {
   "cell_type": "code",
   "execution_count": 195,
   "metadata": {
    "collapsed": false
   },
   "outputs": [],
   "source": [
    "from __future__ import print_function\n",
    "import keras\n",
    "from keras.preprocessing.image import ImageDataGenerator, array_to_img, img_to_array, load_img\n",
    "from keras.datasets import mnist\n",
    "from keras.models import Sequential\n",
    "from keras.layers import Dense, Dropout, Flatten\n",
    "from keras.layers import Conv2D, MaxPooling2D\n",
    "from keras import backend as K\n",
    "import matplotlib.pylab as plt\n",
    "import numpy as np\n",
    "import glob as glob\n",
    "from PIL import Image\n"
   ]
  },
  {
   "cell_type": "markdown",
   "metadata": {},
   "source": [
    "# Hyperparameters"
   ]
  },
  {
   "cell_type": "code",
   "execution_count": 196,
   "metadata": {
    "collapsed": false
   },
   "outputs": [],
   "source": [
    "batch_size = 128\n",
    "num_classes = 11\n",
    "epochs = 12\n",
    "train_data_dir = 'data/train/*.png'\n",
    "test_data_dir = 'data/test/*.png'\n",
    "\n",
    "img_rows, img_cols = 28, 28\n"
   ]
  },
  {
   "cell_type": "markdown",
   "metadata": {},
   "source": [
    "# Data preprocessing"
   ]
  },
  {
   "cell_type": "code",
   "execution_count": 197,
   "metadata": {
    "collapsed": false
   },
   "outputs": [],
   "source": [
    "(mx_train, my_train), (mx_test, my_test) = mnist.load_data()\n",
    "x_shape = mx_train.shape"
   ]
  },
  {
   "cell_type": "code",
   "execution_count": 198,
   "metadata": {
    "collapsed": false
   },
   "outputs": [],
   "source": [
    "imgs = glob.glob(test_data_dir)\n",
    "\n",
    "my_x_test = np.zeros(shape = (len(imgs) ,x_shape[1],x_shape[2]))\n",
    "my_y_test = np.zeros(shape = (len(imgs), ))\n",
    "\n",
    "for index, img in enumerate(imgs):\n",
    "    image = Image.open(img).convert('L')\n",
    "    image = image.resize((img_rows, img_cols), Image.ANTIALIAS)\n",
    "    arr = np.array(image)\n",
    "    my_x_test[index] = arr\n",
    "    my_y_test[index] = -1"
   ]
  },
  {
   "cell_type": "code",
   "execution_count": 199,
   "metadata": {
    "collapsed": false
   },
   "outputs": [],
   "source": [
    "imgs = glob.glob(train_data_dir)\n",
    "\n",
    "my_x_train = np.zeros(shape = (len(imgs) ,x_shape[1],x_shape[2]))\n",
    "my_y_train = np.zeros(shape = (len(imgs), ))\n",
    "\n",
    "for index, img in enumerate(imgs):\n",
    "    image = Image.open(img).convert('L')\n",
    "    image = image.resize((img_rows, img_cols), Image.ANTIALIAS)\n",
    "    arr = np.array(image)\n",
    "    my_x_train[index] = arr\n",
    "    my_y_train[index] = -1"
   ]
  },
  {
   "cell_type": "code",
   "execution_count": 200,
   "metadata": {
    "collapsed": false
   },
   "outputs": [
    {
     "name": "stdout",
     "output_type": "stream",
     "text": [
      "(64833, 28, 28)\n",
      "(64833,)\n",
      "(11641, 28, 28)\n",
      "(11641,)\n"
     ]
    }
   ],
   "source": [
    "x_train = np.concatenate((mx_train, my_x_train), axis=0)\n",
    "y_train = np.concatenate((my_train, my_y_train), axis=0)\n",
    "\n",
    "x_test = np.concatenate((mx_test, my_x_test), axis=0)\n",
    "y_test = np.concatenate((my_test, my_y_test), axis=0)\n",
    "print(x_train.shape)\n",
    "print(y_train.shape)\n",
    "print(x_test.shape)\n",
    "print(y_test.shape)"
   ]
  },
  {
   "cell_type": "code",
   "execution_count": 201,
   "metadata": {
    "collapsed": false
   },
   "outputs": [
    {
     "name": "stdout",
     "output_type": "stream",
     "text": [
      "x_train shape: (64833, 28, 28, 1)\n",
      "64833 train samples\n",
      "11641 test samples\n"
     ]
    }
   ],
   "source": [
    "if K.image_data_format() == 'channels_first':\n",
    "    x_train = x_train.reshape(x_train.shape[0], 1, img_rows, img_cols)\n",
    "    x_test = x_test.reshape(x_test.shape[0], 1, img_rows, img_cols)\n",
    "    input_shape = (1, img_rows, img_cols)\n",
    "else:\n",
    "    x_train = x_train.reshape(x_train.shape[0], img_rows, img_cols, 1)\n",
    "    x_test = x_test.reshape(x_test.shape[0], img_rows, img_cols, 1)\n",
    "    input_shape = (img_rows, img_cols, 1)\n",
    "\n",
    "x_train = x_train.astype('float32')\n",
    "x_test = x_test.astype('float32')\n",
    "x_train /= 255\n",
    "x_test /= 255\n",
    "print('x_train shape:', x_train.shape)\n",
    "print(x_train.shape[0], 'train samples')\n",
    "print(x_test.shape[0], 'test samples')"
   ]
  },
  {
   "cell_type": "code",
   "execution_count": 202,
   "metadata": {
    "collapsed": true
   },
   "outputs": [],
   "source": [
    "# convert class vectors to binary class matrices\n",
    "y_train = keras.utils.to_categorical(y_train, num_classes)\n",
    "y_test = keras.utils.to_categorical(y_test, num_classes)"
   ]
  },
  {
   "cell_type": "markdown",
   "metadata": {},
   "source": [
    "# Model architecture"
   ]
  },
  {
   "cell_type": "code",
   "execution_count": 203,
   "metadata": {
    "collapsed": false
   },
   "outputs": [],
   "source": [
    "model = Sequential()\n",
    "model.add(Conv2D(32, kernel_size=(3, 3),\n",
    "                 activation='relu',\n",
    "                 input_shape=input_shape))\n",
    "model.add(Conv2D(64, (3, 3), activation='relu'))\n",
    "model.add(MaxPooling2D(pool_size=(2, 2)))\n",
    "model.add(Dropout(0.25))\n",
    "model.add(Flatten())\n",
    "model.add(Dense(128, activation='relu'))\n",
    "model.add(Dropout(0.5))\n",
    "model.add(Dense(num_classes, activation='softmax'))\n",
    "\n",
    "model.compile(loss=keras.losses.categorical_crossentropy,\n",
    "              optimizer=keras.optimizers.Adadelta(),\n",
    "              metrics=['accuracy'])\n"
   ]
  },
  {
   "cell_type": "markdown",
   "metadata": {},
   "source": [
    "# Training"
   ]
  },
  {
   "cell_type": "code",
   "execution_count": 204,
   "metadata": {
    "collapsed": false
   },
   "outputs": [
    {
     "name": "stdout",
     "output_type": "stream",
     "text": [
      "Train on 64833 samples, validate on 11641 samples\n",
      "Epoch 1/12\n",
      "64833/64833 [==============================] - 6s 99us/step - loss: 0.3219 - acc: 0.9021 - val_loss: 0.0715 - val_acc: 0.9768\n",
      "Epoch 2/12\n",
      "64833/64833 [==============================] - 6s 93us/step - loss: 0.1133 - acc: 0.9674 - val_loss: 0.0471 - val_acc: 0.9855\n",
      "Epoch 3/12\n",
      "64833/64833 [==============================] - 6s 95us/step - loss: 0.0852 - acc: 0.9745 - val_loss: 0.0411 - val_acc: 0.9869\n",
      "Epoch 4/12\n",
      "64833/64833 [==============================] - 6s 94us/step - loss: 0.0710 - acc: 0.9798 - val_loss: 0.0386 - val_acc: 0.9871\n",
      "Epoch 5/12\n",
      "64833/64833 [==============================] - 6s 96us/step - loss: 0.0620 - acc: 0.9816 - val_loss: 0.0349 - val_acc: 0.9885\n",
      "Epoch 6/12\n",
      "64833/64833 [==============================] - 6s 91us/step - loss: 0.0552 - acc: 0.9830 - val_loss: 0.0301 - val_acc: 0.9904\n",
      "Epoch 7/12\n",
      "64833/64833 [==============================] - 6s 90us/step - loss: 0.0517 - acc: 0.9851 - val_loss: 0.0304 - val_acc: 0.9906\n",
      "Epoch 8/12\n",
      "64833/64833 [==============================] - 6s 90us/step - loss: 0.0475 - acc: 0.9858 - val_loss: 0.0287 - val_acc: 0.9904\n",
      "Epoch 9/12\n",
      "64833/64833 [==============================] - 6s 91us/step - loss: 0.0431 - acc: 0.9870 - val_loss: 0.0299 - val_acc: 0.9906\n",
      "Epoch 10/12\n",
      "64833/64833 [==============================] - 6s 94us/step - loss: 0.0416 - acc: 0.9878 - val_loss: 0.0293 - val_acc: 0.9903\n",
      "Epoch 11/12\n",
      "64833/64833 [==============================] - 6s 90us/step - loss: 0.0401 - acc: 0.9877 - val_loss: 0.0284 - val_acc: 0.9908\n",
      "Epoch 12/12\n",
      "64833/64833 [==============================] - 6s 97us/step - loss: 0.0378 - acc: 0.9884 - val_loss: 0.0252 - val_acc: 0.9914\n"
     ]
    },
    {
     "data": {
      "text/plain": [
       "<keras.callbacks.History at 0x27408dcd7f0>"
      ]
     },
     "execution_count": 204,
     "metadata": {},
     "output_type": "execute_result"
    }
   ],
   "source": [
    "model.fit(x_train, y_train,\n",
    "          batch_size=batch_size,\n",
    "          epochs=epochs,\n",
    "          verbose=1,\n",
    "          validation_data=(x_test, y_test))"
   ]
  },
  {
   "cell_type": "markdown",
   "metadata": {},
   "source": [
    "# Test scores"
   ]
  },
  {
   "cell_type": "code",
   "execution_count": 205,
   "metadata": {
    "collapsed": false
   },
   "outputs": [
    {
     "name": "stdout",
     "output_type": "stream",
     "text": [
      "Test loss: 0.025223986910340578\n",
      "Test accuracy: 0.9914096727085302\n"
     ]
    }
   ],
   "source": [
    "score = model.evaluate(x_test, y_test, verbose=0)\n",
    "print('Test loss:', score[0])\n",
    "print('Test accuracy:', score[1])"
   ]
  },
  {
   "cell_type": "markdown",
   "metadata": {},
   "source": [
    "# Prediction"
   ]
  },
  {
   "cell_type": "code",
   "execution_count": 206,
   "metadata": {
    "collapsed": false
   },
   "outputs": [
    {
     "name": "stdout",
     "output_type": "stream",
     "text": [
      "[[0. 0. 0. 0. 0. 0. 0. 0. 0. 0. 1.]]\n",
      "[10]\n"
     ]
    }
   ],
   "source": [
    "# load a single image\n",
    "img = Image.open('data/img/letter_0_8634.png').convert('L')\n",
    "img = img.resize((img_rows, img_cols), Image.ANTIALIAS)\n",
    "arr = np.zeros((1,28,28))\n",
    "arr[0] = np.array(img)\n",
    "arr = arr.reshape(arr.shape[0], img_rows, img_cols, 1)\n",
    "# check prediction\n",
    "pred = model.predict(arr)\n",
    "print(pred)\n",
    "classes = pred.argmax(axis=-1)\n",
    "print(classes)"
   ]
  },
  {
   "cell_type": "markdown",
   "metadata": {},
   "source": [
    "# Data augmentation:"
   ]
  },
  {
   "cell_type": "code",
   "execution_count": 187,
   "metadata": {
    "collapsed": false
   },
   "outputs": [],
   "source": [
    "datagen = ImageDataGenerator(\n",
    "        rotation_range=15,\n",
    "        width_shift_range=0.1,\n",
    "        height_shift_range=0.1,\n",
    "        shear_range=0.5,\n",
    "        zoom_range=0,\n",
    "        horizontal_flip=True,\n",
    "        fill_mode='nearest')\n",
    "\n",
    "img = Image.open('data/test/75202.png').convert('L')\n",
    "img = img.resize((img_rows, img_cols), Image.ANTIALIAS)\n",
    "x = img_to_array(img)\n",
    "x = x.reshape((1,) + x.shape)\n",
    "\n",
    "        \n",
    "imgs = glob.glob(train_data_dir)\n",
    "\n",
    "for img in imgs[0:5]:\n",
    "    image = Image.open(img).convert('L')\n",
    "    image = image.resize((img_rows, img_cols), Image.ANTIALIAS)\n",
    "    x = img_to_array(image)\n",
    "    x = x.reshape((1,) + x.shape)\n",
    "    i = 0\n",
    "    for batch in datagen.flow(x, batch_size=1,\n",
    "                          save_to_dir='preview', save_prefix='letter', save_format='png'):\n",
    "        i += 1\n",
    "        if i > 5:\n",
    "            break"
   ]
  },
  {
   "cell_type": "code",
   "execution_count": null,
   "metadata": {
    "collapsed": true
   },
   "outputs": [],
   "source": []
  }
 ],
 "metadata": {
  "kernelspec": {
   "display_name": "Python 3",
   "language": "python",
   "name": "python3"
  },
  "language_info": {
   "codemirror_mode": {
    "name": "ipython",
    "version": 3
   },
   "file_extension": ".py",
   "mimetype": "text/x-python",
   "name": "python",
   "nbconvert_exporter": "python",
   "pygments_lexer": "ipython3",
   "version": "3.5.2"
  }
 },
 "nbformat": 4,
 "nbformat_minor": 0
}
