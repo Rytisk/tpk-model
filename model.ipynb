{
 "cells": [
  {
   "cell_type": "code",
   "execution_count": 6,
   "metadata": {
    "collapsed": false
   },
   "outputs": [],
   "source": [
    "#imports"
   ]
  },
  {
   "cell_type": "code",
   "execution_count": 1,
   "metadata": {
    "collapsed": false
   },
   "outputs": [
    {
     "name": "stderr",
     "output_type": "stream",
     "text": [
      "Using TensorFlow backend.\n"
     ]
    }
   ],
   "source": [
    "from keras.preprocessing.image import ImageDataGenerator\n",
    "from keras.models import Sequential\n",
    "from keras.layers import Conv2D, MaxPooling2D\n",
    "from keras.layers import Activation, Dropout, Flatten, Dense\n",
    "from keras import backend as K"
   ]
  },
  {
   "cell_type": "code",
   "execution_count": 2,
   "metadata": {
    "collapsed": true
   },
   "outputs": [],
   "source": [
    "# dimensions of our images.\n",
    "img_width, img_height = 150, 150\n",
    "\n",
    "train_data_dir = 'data/train'\n",
    "validation_data_dir = 'data/validation'\n",
    "nb_train_samples = 2000\n",
    "nb_validation_samples = 800\n",
    "epochs = 50\n",
    "batch_size = 16\n",
    "\n",
    "if K.image_data_format() == 'channels_first':\n",
    "    input_shape = (3, img_width, img_height)\n",
    "else:\n",
    "    input_shape = (img_width, img_height, 3)\n",
    "\n",
    "model = Sequential()\n",
    "model.add(Conv2D(32, (3, 3), input_shape=input_shape))\n",
    "model.add(Activation('relu'))\n",
    "model.add(MaxPooling2D(pool_size=(2, 2)))\n",
    "\n",
    "model.add(Conv2D(32, (3, 3)))\n",
    "model.add(Activation('relu'))\n",
    "model.add(MaxPooling2D(pool_size=(2, 2)))\n",
    "\n",
    "model.add(Conv2D(64, (3, 3)))\n",
    "model.add(Activation('relu'))\n",
    "model.add(MaxPooling2D(pool_size=(2, 2)))\n",
    "\n",
    "model.add(Flatten())\n",
    "model.add(Dense(64))\n",
    "model.add(Activation('relu'))\n",
    "model.add(Dropout(0.5))\n",
    "model.add(Dense(1))\n",
    "model.add(Activation('sigmoid'))\n",
    "\n",
    "model.compile(loss='binary_crossentropy',\n",
    "              optimizer='rmsprop',\n",
    "              metrics=['accuracy'])"
   ]
  },
  {
   "cell_type": "code",
   "execution_count": 3,
   "metadata": {
    "collapsed": false
   },
   "outputs": [
    {
     "name": "stdout",
     "output_type": "stream",
     "text": [
      "Found 3000 images belonging to 2 classes.\n",
      "Found 1000 images belonging to 2 classes.\n",
      "Epoch 1/50\n",
      "125/125 [==============================] - 12s 98ms/step - loss: 0.7114 - acc: 0.5470 - val_loss: 0.6938 - val_acc: 0.5238\n",
      "Epoch 2/50\n",
      "125/125 [==============================] - 11s 87ms/step - loss: 0.6838 - acc: 0.5990 - val_loss: 0.7436 - val_acc: 0.5387\n",
      "Epoch 3/50\n",
      "125/125 [==============================] - 11s 85ms/step - loss: 0.6411 - acc: 0.6390 - val_loss: 0.6566 - val_acc: 0.6438\n",
      "Epoch 4/50\n",
      "125/125 [==============================] - 11s 92ms/step - loss: 0.6100 - acc: 0.6815 - val_loss: 0.5800 - val_acc: 0.7050\n",
      "Epoch 5/50\n",
      "125/125 [==============================] - 11s 86ms/step - loss: 0.5818 - acc: 0.6985 - val_loss: 0.5589 - val_acc: 0.7275\n",
      "Epoch 6/50\n",
      "125/125 [==============================] - 11s 84ms/step - loss: 0.5704 - acc: 0.7090 - val_loss: 0.5655 - val_acc: 0.7250\n",
      "Epoch 7/50\n",
      "125/125 [==============================] - 11s 91ms/step - loss: 0.5602 - acc: 0.7245 - val_loss: 0.5467 - val_acc: 0.7400\n",
      "Epoch 8/50\n",
      "125/125 [==============================] - 11s 86ms/step - loss: 0.5356 - acc: 0.7375 - val_loss: 0.5282 - val_acc: 0.7462\n",
      "Epoch 9/50\n",
      "125/125 [==============================] - 11s 84ms/step - loss: 0.5307 - acc: 0.7525 - val_loss: 0.5060 - val_acc: 0.7700\n",
      "Epoch 10/50\n",
      "125/125 [==============================] - 11s 90ms/step - loss: 0.5163 - acc: 0.7610 - val_loss: 0.5189 - val_acc: 0.7500\n",
      "Epoch 11/50\n",
      "125/125 [==============================] - 11s 84ms/step - loss: 0.5098 - acc: 0.7540 - val_loss: 0.5359 - val_acc: 0.7750\n",
      "Epoch 12/50\n",
      "125/125 [==============================] - 11s 85ms/step - loss: 0.5019 - acc: 0.7650 - val_loss: 0.5772 - val_acc: 0.6975\n",
      "Epoch 13/50\n",
      "125/125 [==============================] - 11s 90ms/step - loss: 0.4924 - acc: 0.7660 - val_loss: 0.5360 - val_acc: 0.7750\n",
      "Epoch 14/50\n",
      "125/125 [==============================] - 11s 87ms/step - loss: 0.4987 - acc: 0.7715 - val_loss: 0.5686 - val_acc: 0.7388\n",
      "Epoch 15/50\n",
      "125/125 [==============================] - 11s 85ms/step - loss: 0.4856 - acc: 0.7845 - val_loss: 0.6645 - val_acc: 0.6800\n",
      "Epoch 16/50\n",
      "125/125 [==============================] - 11s 90ms/step - loss: 0.4772 - acc: 0.7770 - val_loss: 0.5561 - val_acc: 0.7238\n",
      "Epoch 17/50\n",
      "125/125 [==============================] - 11s 86ms/step - loss: 0.4863 - acc: 0.7835 - val_loss: 0.4777 - val_acc: 0.7963\n",
      "Epoch 18/50\n",
      "125/125 [==============================] - 11s 85ms/step - loss: 0.4841 - acc: 0.7755 - val_loss: 0.4767 - val_acc: 0.7850\n",
      "Epoch 19/50\n",
      "125/125 [==============================] - 11s 88ms/step - loss: 0.4831 - acc: 0.7790 - val_loss: 0.5296 - val_acc: 0.7475\n",
      "Epoch 20/50\n",
      "125/125 [==============================] - 11s 85ms/step - loss: 0.4421 - acc: 0.8095 - val_loss: 0.7488 - val_acc: 0.7600\n",
      "Epoch 21/50\n",
      "125/125 [==============================] - 11s 84ms/step - loss: 0.4714 - acc: 0.7935 - val_loss: 0.6097 - val_acc: 0.7375\n",
      "Epoch 22/50\n",
      "125/125 [==============================] - 11s 88ms/step - loss: 0.4507 - acc: 0.8010 - val_loss: 0.4956 - val_acc: 0.7700\n",
      "Epoch 23/50\n",
      "125/125 [==============================] - 11s 85ms/step - loss: 0.4471 - acc: 0.7830 - val_loss: 0.5556 - val_acc: 0.7800\n",
      "Epoch 24/50\n",
      "125/125 [==============================] - 10s 84ms/step - loss: 0.4437 - acc: 0.8105 - val_loss: 0.5029 - val_acc: 0.7937\n",
      "Epoch 25/50\n",
      "125/125 [==============================] - 11s 88ms/step - loss: 0.4312 - acc: 0.8075 - val_loss: 0.5905 - val_acc: 0.7738\n",
      "Epoch 26/50\n",
      "125/125 [==============================] - 11s 85ms/step - loss: 0.4355 - acc: 0.7995 - val_loss: 0.5014 - val_acc: 0.7875\n",
      "Epoch 27/50\n",
      "125/125 [==============================] - 10s 84ms/step - loss: 0.4686 - acc: 0.8025 - val_loss: 0.4727 - val_acc: 0.7788\n",
      "Epoch 28/50\n",
      "125/125 [==============================] - 11s 87ms/step - loss: 0.4371 - acc: 0.8125 - val_loss: 0.5538 - val_acc: 0.7712\n",
      "Epoch 29/50\n",
      "125/125 [==============================] - 11s 86ms/step - loss: 0.4309 - acc: 0.8130 - val_loss: 0.5948 - val_acc: 0.7750\n",
      "Epoch 30/50\n",
      "125/125 [==============================] - 11s 84ms/step - loss: 0.4353 - acc: 0.8060 - val_loss: 0.4658 - val_acc: 0.8063\n",
      "Epoch 31/50\n",
      "125/125 [==============================] - 11s 87ms/step - loss: 0.4335 - acc: 0.8200 - val_loss: 0.4724 - val_acc: 0.7963\n",
      "Epoch 32/50\n",
      "125/125 [==============================] - 11s 85ms/step - loss: 0.4093 - acc: 0.8175 - val_loss: 0.4708 - val_acc: 0.8063\n",
      "Epoch 33/50\n",
      "125/125 [==============================] - 11s 84ms/step - loss: 0.4336 - acc: 0.8130 - val_loss: 0.4856 - val_acc: 0.8013\n",
      "Epoch 34/50\n",
      "125/125 [==============================] - 11s 86ms/step - loss: 0.4375 - acc: 0.8130 - val_loss: 0.4779 - val_acc: 0.8000\n",
      "Epoch 35/50\n",
      "125/125 [==============================] - 11s 85ms/step - loss: 0.3991 - acc: 0.8250 - val_loss: 0.5647 - val_acc: 0.7762\n",
      "Epoch 36/50\n",
      "125/125 [==============================] - 11s 84ms/step - loss: 0.4364 - acc: 0.8190 - val_loss: 0.6108 - val_acc: 0.7650\n",
      "Epoch 37/50\n",
      "125/125 [==============================] - 11s 87ms/step - loss: 0.4220 - acc: 0.8105 - val_loss: 0.5062 - val_acc: 0.7913\n",
      "Epoch 38/50\n",
      "125/125 [==============================] - 11s 86ms/step - loss: 0.4164 - acc: 0.8215 - val_loss: 0.4602 - val_acc: 0.8113\n",
      "Epoch 39/50\n",
      "125/125 [==============================] - 11s 85ms/step - loss: 0.4129 - acc: 0.8115 - val_loss: 0.4595 - val_acc: 0.7975\n",
      "Epoch 40/50\n",
      "125/125 [==============================] - 11s 85ms/step - loss: 0.4217 - acc: 0.8205 - val_loss: 0.4676 - val_acc: 0.7975\n",
      "Epoch 41/50\n",
      "125/125 [==============================] - 11s 85ms/step - loss: 0.4260 - acc: 0.8150 - val_loss: 0.4969 - val_acc: 0.7512\n",
      "Epoch 42/50\n",
      "125/125 [==============================] - 11s 84ms/step - loss: 0.4074 - acc: 0.8250 - val_loss: 0.5916 - val_acc: 0.7662\n",
      "Epoch 43/50\n",
      "125/125 [==============================] - 11s 85ms/step - loss: 0.4028 - acc: 0.8285 - val_loss: 0.4755 - val_acc: 0.7812\n",
      "Epoch 44/50\n",
      "125/125 [==============================] - 11s 86ms/step - loss: 0.4224 - acc: 0.8195 - val_loss: 0.5033 - val_acc: 0.7575\n",
      "Epoch 45/50\n",
      "125/125 [==============================] - 11s 85ms/step - loss: 0.4213 - acc: 0.8105 - val_loss: 0.4513 - val_acc: 0.7937\n",
      "Epoch 46/50\n",
      "125/125 [==============================] - 11s 85ms/step - loss: 0.4128 - acc: 0.8300 - val_loss: 0.5568 - val_acc: 0.7800\n",
      "Epoch 47/50\n",
      "125/125 [==============================] - 11s 85ms/step - loss: 0.4058 - acc: 0.8270 - val_loss: 0.6570 - val_acc: 0.7275\n",
      "Epoch 48/50\n",
      "125/125 [==============================] - 11s 84ms/step - loss: 0.4131 - acc: 0.8240 - val_loss: 0.5057 - val_acc: 0.7575\n",
      "Epoch 49/50\n",
      "125/125 [==============================] - 11s 84ms/step - loss: 0.4058 - acc: 0.8320 - val_loss: 0.4770 - val_acc: 0.8113\n",
      "Epoch 50/50\n",
      "125/125 [==============================] - 11s 85ms/step - loss: 0.4296 - acc: 0.8235 - val_loss: 0.4976 - val_acc: 0.8013\n"
     ]
    },
    {
     "data": {
      "text/plain": [
       "<keras.callbacks.History at 0x23ef3d30c50>"
      ]
     },
     "execution_count": 3,
     "metadata": {},
     "output_type": "execute_result"
    }
   ],
   "source": [
    "\n",
    "# this is the augmentation configuration we will use for training\n",
    "train_datagen = ImageDataGenerator(\n",
    "    rescale=1. / 255,\n",
    "    shear_range=0.2,\n",
    "    zoom_range=0.2,\n",
    "    horizontal_flip=True)\n",
    "\n",
    "# this is the augmentation configuration we will use for testing:\n",
    "# only rescaling\n",
    "test_datagen = ImageDataGenerator(rescale=1. / 255)\n",
    "\n",
    "train_generator = train_datagen.flow_from_directory(\n",
    "    train_data_dir,\n",
    "    target_size=(img_width, img_height),\n",
    "    batch_size=batch_size,\n",
    "    class_mode='binary')\n",
    "\n",
    "validation_generator = test_datagen.flow_from_directory(\n",
    "    validation_data_dir,\n",
    "    target_size=(img_width, img_height),\n",
    "    batch_size=batch_size,\n",
    "    class_mode='binary')\n",
    "\n",
    "model.fit_generator(\n",
    "    train_generator,\n",
    "    steps_per_epoch=nb_train_samples // batch_size,\n",
    "    epochs=epochs,\n",
    "    validation_data=validation_generator,\n",
    "    validation_steps=nb_validation_samples // batch_size)\n",
    "\n"
   ]
  },
  {
   "cell_type": "code",
   "execution_count": 4,
   "metadata": {
    "collapsed": false
   },
   "outputs": [],
   "source": [
    "model.save_weights('first_try.h5')"
   ]
  },
  {
   "cell_type": "code",
   "execution_count": null,
   "metadata": {
    "collapsed": true
   },
   "outputs": [],
   "source": []
  }
 ],
 "metadata": {
  "kernelspec": {
   "display_name": "Python 3",
   "language": "python",
   "name": "python3"
  },
  "language_info": {
   "codemirror_mode": {
    "name": "ipython",
    "version": 3
   },
   "file_extension": ".py",
   "mimetype": "text/x-python",
   "name": "python",
   "nbconvert_exporter": "python",
   "pygments_lexer": "ipython3",
   "version": "3.5.2"
  }
 },
 "nbformat": 4,
 "nbformat_minor": 0
}
