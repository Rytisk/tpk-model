{
 "cells": [
  {
   "cell_type": "code",
   "execution_count": 6,
   "metadata": {
    "collapsed": false
   },
   "outputs": [],
   "source": [
    "#imports"
   ]
  },
  {
   "cell_type": "code",
   "execution_count": 7,
   "metadata": {
    "collapsed": false
   },
   "outputs": [],
   "source": [
    "from keras.preprocessing.image import ImageDataGenerator\n",
    "from keras.models import Sequential\n",
    "from keras.layers import Conv2D, MaxPooling2D\n",
    "from keras.layers import Activation, Dropout, Flatten, Dense\n",
    "from keras import backend as K"
   ]
  },
  {
   "cell_type": "code",
   "execution_count": 8,
   "metadata": {
    "collapsed": true
   },
   "outputs": [],
   "source": [
    "# dimensions of our images.\n",
    "img_width, img_height = 150, 150\n",
    "\n",
    "train_data_dir = 'data/train'\n",
    "validation_data_dir = 'data/validation'\n",
    "nb_train_samples = 2000\n",
    "nb_validation_samples = 800\n",
    "epochs = 50\n",
    "batch_size = 16\n",
    "\n",
    "if K.image_data_format() == 'channels_first':\n",
    "    input_shape = (3, img_width, img_height)\n",
    "else:\n",
    "    input_shape = (img_width, img_height, 3)\n",
    "\n",
    "model = Sequential()\n",
    "model.add(Conv2D(32, (3, 3), input_shape=input_shape))\n",
    "model.add(Activation('relu'))\n",
    "model.add(MaxPooling2D(pool_size=(2, 2)))\n",
    "\n",
    "model.add(Conv2D(32, (3, 3)))\n",
    "model.add(Activation('relu'))\n",
    "model.add(MaxPooling2D(pool_size=(2, 2)))\n",
    "\n",
    "model.add(Conv2D(64, (3, 3)))\n",
    "model.add(Activation('relu'))\n",
    "model.add(MaxPooling2D(pool_size=(2, 2)))\n",
    "\n",
    "model.add(Flatten())\n",
    "model.add(Dense(64))\n",
    "model.add(Activation('relu'))\n",
    "model.add(Dropout(0.5))\n",
    "model.add(Dense(1))\n",
    "model.add(Activation('sigmoid'))\n",
    "\n",
    "model.compile(loss='binary_crossentropy',\n",
    "              optimizer='rmsprop',\n",
    "              metrics=['accuracy'])"
   ]
  },
  {
   "cell_type": "code",
   "execution_count": 9,
   "metadata": {
    "collapsed": false
   },
   "outputs": [
    {
     "name": "stdout",
     "output_type": "stream",
     "text": [
      "Found 3000 images belonging to 2 classes.\n",
      "Found 1000 images belonging to 2 classes.\n",
      "Epoch 1/50\n",
      "125/125 [==============================] - 73s 585ms/step - loss: 0.7055 - acc: 0.5270 - val_loss: 0.6827 - val_acc: 0.6038\n",
      "Epoch 2/50\n",
      "125/125 [==============================] - 10s 82ms/step - loss: 0.6697 - acc: 0.5910 - val_loss: 0.6510 - val_acc: 0.6162\n",
      "Epoch 3/50\n",
      "125/125 [==============================] - 10s 82ms/step - loss: 0.6486 - acc: 0.6360 - val_loss: 0.6310 - val_acc: 0.6525\n",
      "Epoch 4/50\n",
      "125/125 [==============================] - 11s 90ms/step - loss: 0.6211 - acc: 0.6570 - val_loss: 0.5790 - val_acc: 0.7475\n",
      "Epoch 5/50\n",
      "125/125 [==============================] - 10s 83ms/step - loss: 0.5902 - acc: 0.6835 - val_loss: 0.6750 - val_acc: 0.6562\n",
      "Epoch 6/50\n",
      "125/125 [==============================] - 11s 85ms/step - loss: 0.5843 - acc: 0.6885 - val_loss: 0.7944 - val_acc: 0.6475\n",
      "Epoch 7/50\n",
      "125/125 [==============================] - 11s 89ms/step - loss: 0.5496 - acc: 0.7225 - val_loss: 0.6036 - val_acc: 0.7000\n",
      "Epoch 8/50\n",
      "125/125 [==============================] - 10s 82ms/step - loss: 0.5580 - acc: 0.7330 - val_loss: 0.5417 - val_acc: 0.7450\n",
      "Epoch 9/50\n",
      "125/125 [==============================] - 10s 82ms/step - loss: 0.5434 - acc: 0.7315 - val_loss: 0.7033 - val_acc: 0.6637\n",
      "Epoch 10/50\n",
      "125/125 [==============================] - 11s 89ms/step - loss: 0.5253 - acc: 0.7470 - val_loss: 0.5489 - val_acc: 0.7462\n",
      "Epoch 11/50\n",
      "125/125 [==============================] - 10s 83ms/step - loss: 0.5362 - acc: 0.7510 - val_loss: 0.5333 - val_acc: 0.7388\n",
      "Epoch 12/50\n",
      "125/125 [==============================] - 12s 96ms/step - loss: 0.5167 - acc: 0.7530 - val_loss: 0.5359 - val_acc: 0.7462\n",
      "Epoch 13/50\n",
      "125/125 [==============================] - 11s 89ms/step - loss: 0.5085 - acc: 0.7630 - val_loss: 0.5270 - val_acc: 0.7588\n",
      "Epoch 14/50\n",
      "125/125 [==============================] - 10s 82ms/step - loss: 0.4993 - acc: 0.7495 - val_loss: 0.5547 - val_acc: 0.7525\n",
      "Epoch 15/50\n",
      "125/125 [==============================] - 10s 81ms/step - loss: 0.4788 - acc: 0.7845 - val_loss: 0.5081 - val_acc: 0.7688\n",
      "Epoch 16/50\n",
      "125/125 [==============================] - 11s 87ms/step - loss: 0.4910 - acc: 0.7775 - val_loss: 0.7474 - val_acc: 0.7113\n",
      "Epoch 17/50\n",
      "125/125 [==============================] - 10s 82ms/step - loss: 0.4843 - acc: 0.7720 - val_loss: 0.5916 - val_acc: 0.7638\n",
      "Epoch 18/50\n",
      "125/125 [==============================] - 10s 81ms/step - loss: 0.4888 - acc: 0.7800 - val_loss: 0.5259 - val_acc: 0.7562\n",
      "Epoch 19/50\n",
      "125/125 [==============================] - 11s 86ms/step - loss: 0.4973 - acc: 0.7805 - val_loss: 0.5293 - val_acc: 0.7588\n",
      "Epoch 20/50\n",
      "125/125 [==============================] - 10s 83ms/step - loss: 0.4838 - acc: 0.7855 - val_loss: 0.5247 - val_acc: 0.7750\n",
      "Epoch 21/50\n",
      "125/125 [==============================] - 10s 82ms/step - loss: 0.4628 - acc: 0.7980 - val_loss: 0.5221 - val_acc: 0.7800\n",
      "Epoch 22/50\n",
      "125/125 [==============================] - 11s 85ms/step - loss: 0.4623 - acc: 0.7865 - val_loss: 0.5138 - val_acc: 0.7762\n",
      "Epoch 23/50\n",
      "125/125 [==============================] - 10s 83ms/step - loss: 0.4549 - acc: 0.8025 - val_loss: 0.5763 - val_acc: 0.7825\n",
      "Epoch 24/50\n",
      "125/125 [==============================] - 10s 81ms/step - loss: 0.4713 - acc: 0.7885 - val_loss: 0.5488 - val_acc: 0.7550\n",
      "Epoch 25/50\n",
      "125/125 [==============================] - 11s 85ms/step - loss: 0.4621 - acc: 0.7950 - val_loss: 0.4859 - val_acc: 0.7863\n",
      "Epoch 26/50\n",
      "125/125 [==============================] - 10s 82ms/step - loss: 0.4591 - acc: 0.7955 - val_loss: 0.5477 - val_acc: 0.7712\n",
      "Epoch 27/50\n",
      "125/125 [==============================] - 10s 82ms/step - loss: 0.4578 - acc: 0.8100 - val_loss: 0.5965 - val_acc: 0.7675\n",
      "Epoch 28/50\n",
      "125/125 [==============================] - 11s 85ms/step - loss: 0.4541 - acc: 0.7930 - val_loss: 0.5571 - val_acc: 0.7750\n",
      "Epoch 29/50\n",
      "125/125 [==============================] - 10s 82ms/step - loss: 0.4635 - acc: 0.7920 - val_loss: 0.5143 - val_acc: 0.7900\n",
      "Epoch 30/50\n",
      "125/125 [==============================] - 10s 81ms/step - loss: 0.4437 - acc: 0.7970 - val_loss: 0.5012 - val_acc: 0.7688\n",
      "Epoch 31/50\n",
      "125/125 [==============================] - 11s 86ms/step - loss: 0.4459 - acc: 0.7995 - val_loss: 0.5145 - val_acc: 0.7675\n",
      "Epoch 32/50\n",
      "125/125 [==============================] - 11s 86ms/step - loss: 0.4401 - acc: 0.8045 - val_loss: 0.5243 - val_acc: 0.7950\n",
      "Epoch 33/50\n",
      "125/125 [==============================] - 10s 84ms/step - loss: 0.4339 - acc: 0.8120 - val_loss: 0.6014 - val_acc: 0.7700\n",
      "Epoch 34/50\n",
      "125/125 [==============================] - 11s 87ms/step - loss: 0.4304 - acc: 0.8050 - val_loss: 0.5325 - val_acc: 0.7788\n",
      "Epoch 35/50\n",
      "125/125 [==============================] - 10s 84ms/step - loss: 0.4477 - acc: 0.7965 - val_loss: 0.4971 - val_acc: 0.8000\n",
      "Epoch 36/50\n",
      "125/125 [==============================] - 10s 82ms/step - loss: 0.4386 - acc: 0.8015 - val_loss: 0.8763 - val_acc: 0.6925\n",
      "Epoch 37/50\n",
      "125/125 [==============================] - 10s 83ms/step - loss: 0.4424 - acc: 0.8125 - val_loss: 0.5765 - val_acc: 0.7913\n",
      "Epoch 38/50\n",
      "125/125 [==============================] - 11s 86ms/step - loss: 0.4376 - acc: 0.8070 - val_loss: 0.5462 - val_acc: 0.7812\n",
      "Epoch 39/50\n",
      "125/125 [==============================] - 11s 85ms/step - loss: 0.4433 - acc: 0.8025 - val_loss: 0.5696 - val_acc: 0.7738\n",
      "Epoch 40/50\n",
      "125/125 [==============================] - 11s 85ms/step - loss: 0.4439 - acc: 0.8080 - val_loss: 0.4984 - val_acc: 0.7925\n",
      "Epoch 41/50\n",
      "125/125 [==============================] - 11s 85ms/step - loss: 0.4624 - acc: 0.8045 - val_loss: 0.4811 - val_acc: 0.7850\n",
      "Epoch 42/50\n",
      "125/125 [==============================] - 11s 86ms/step - loss: 0.4436 - acc: 0.8210 - val_loss: 0.5017 - val_acc: 0.7913\n",
      "Epoch 43/50\n",
      "125/125 [==============================] - 12s 92ms/step - loss: 0.4392 - acc: 0.8270 - val_loss: 0.6776 - val_acc: 0.7738\n",
      "Epoch 44/50\n",
      "125/125 [==============================] - 11s 87ms/step - loss: 0.4308 - acc: 0.8145 - val_loss: 0.5862 - val_acc: 0.7700\n",
      "Epoch 45/50\n",
      "125/125 [==============================] - 11s 84ms/step - loss: 0.4630 - acc: 0.7930 - val_loss: 0.4895 - val_acc: 0.7825\n",
      "Epoch 46/50\n",
      "125/125 [==============================] - 11s 86ms/step - loss: 0.4413 - acc: 0.8185 - val_loss: 0.4975 - val_acc: 0.7925\n",
      "Epoch 47/50\n",
      "125/125 [==============================] - 11s 86ms/step - loss: 0.4158 - acc: 0.8185 - val_loss: 0.9106 - val_acc: 0.7350\n",
      "Epoch 48/50\n",
      "125/125 [==============================] - 11s 85ms/step - loss: 0.4322 - acc: 0.8155 - val_loss: 0.5408 - val_acc: 0.7675\n",
      "Epoch 49/50\n",
      "125/125 [==============================] - 11s 86ms/step - loss: 0.4466 - acc: 0.8175 - val_loss: 0.5653 - val_acc: 0.7325\n",
      "Epoch 50/50\n",
      "125/125 [==============================] - 11s 86ms/step - loss: 0.4252 - acc: 0.8160 - val_loss: 0.4852 - val_acc: 0.7963\n"
     ]
    },
    {
     "ename": "ImportError",
     "evalue": "`save_weights` requires h5py.",
     "output_type": "error",
     "traceback": [
      "\u001b[1;31m---------------------------------------------------------------------------\u001b[0m",
      "\u001b[1;31mImportError\u001b[0m                               Traceback (most recent call last)",
      "\u001b[1;32m<ipython-input-9-22f835ae76a4>\u001b[0m in \u001b[0;36m<module>\u001b[1;34m()\u001b[0m\n\u001b[0;32m     30\u001b[0m     validation_steps=nb_validation_samples // batch_size)\n\u001b[0;32m     31\u001b[0m \u001b[1;33m\u001b[0m\u001b[0m\n\u001b[1;32m---> 32\u001b[1;33m \u001b[0mmodel\u001b[0m\u001b[1;33m.\u001b[0m\u001b[0msave_weights\u001b[0m\u001b[1;33m(\u001b[0m\u001b[1;34m'first_try.h5'\u001b[0m\u001b[1;33m)\u001b[0m\u001b[1;33m\u001b[0m\u001b[0m\n\u001b[0m",
      "\u001b[1;32mc:\\programdata\\anaconda3\\envs\\tensorflow-gpu\\lib\\site-packages\\keras\\models.py\u001b[0m in \u001b[0;36msave_weights\u001b[1;34m(self, filepath, overwrite)\u001b[0m\n\u001b[0;32m    737\u001b[0m     \u001b[1;32mdef\u001b[0m \u001b[0msave_weights\u001b[0m\u001b[1;33m(\u001b[0m\u001b[0mself\u001b[0m\u001b[1;33m,\u001b[0m \u001b[0mfilepath\u001b[0m\u001b[1;33m,\u001b[0m \u001b[0moverwrite\u001b[0m\u001b[1;33m=\u001b[0m\u001b[1;32mTrue\u001b[0m\u001b[1;33m)\u001b[0m\u001b[1;33m:\u001b[0m\u001b[1;33m\u001b[0m\u001b[0m\n\u001b[0;32m    738\u001b[0m         \u001b[1;32mif\u001b[0m \u001b[0mh5py\u001b[0m \u001b[1;32mis\u001b[0m \u001b[1;32mNone\u001b[0m\u001b[1;33m:\u001b[0m\u001b[1;33m\u001b[0m\u001b[0m\n\u001b[1;32m--> 739\u001b[1;33m             \u001b[1;32mraise\u001b[0m \u001b[0mImportError\u001b[0m\u001b[1;33m(\u001b[0m\u001b[1;34m'`save_weights` requires h5py.'\u001b[0m\u001b[1;33m)\u001b[0m\u001b[1;33m\u001b[0m\u001b[0m\n\u001b[0m\u001b[0;32m    740\u001b[0m         \u001b[1;31m# If file exists and should not be overwritten:\u001b[0m\u001b[1;33m\u001b[0m\u001b[1;33m\u001b[0m\u001b[0m\n\u001b[0;32m    741\u001b[0m         \u001b[1;32mif\u001b[0m \u001b[1;32mnot\u001b[0m \u001b[0moverwrite\u001b[0m \u001b[1;32mand\u001b[0m \u001b[0mos\u001b[0m\u001b[1;33m.\u001b[0m\u001b[0mpath\u001b[0m\u001b[1;33m.\u001b[0m\u001b[0misfile\u001b[0m\u001b[1;33m(\u001b[0m\u001b[0mfilepath\u001b[0m\u001b[1;33m)\u001b[0m\u001b[1;33m:\u001b[0m\u001b[1;33m\u001b[0m\u001b[0m\n",
      "\u001b[1;31mImportError\u001b[0m: `save_weights` requires h5py."
     ]
    }
   ],
   "source": [
    "\n",
    "# this is the augmentation configuration we will use for training\n",
    "train_datagen = ImageDataGenerator(\n",
    "    rescale=1. / 255,\n",
    "    shear_range=0.2,\n",
    "    zoom_range=0.2,\n",
    "    horizontal_flip=True)\n",
    "\n",
    "# this is the augmentation configuration we will use for testing:\n",
    "# only rescaling\n",
    "test_datagen = ImageDataGenerator(rescale=1. / 255)\n",
    "\n",
    "train_generator = train_datagen.flow_from_directory(\n",
    "    train_data_dir,\n",
    "    target_size=(img_width, img_height),\n",
    "    batch_size=batch_size,\n",
    "    class_mode='binary')\n",
    "\n",
    "validation_generator = test_datagen.flow_from_directory(\n",
    "    validation_data_dir,\n",
    "    target_size=(img_width, img_height),\n",
    "    batch_size=batch_size,\n",
    "    class_mode='binary')\n",
    "\n",
    "model.fit_generator(\n",
    "    train_generator,\n",
    "    steps_per_epoch=nb_train_samples // batch_size,\n",
    "    epochs=epochs,\n",
    "    validation_data=validation_generator,\n",
    "    validation_steps=nb_validation_samples // batch_size)\n",
    "\n"
   ]
  },
  {
   "cell_type": "code",
   "execution_count": 11,
   "metadata": {
    "collapsed": false
   },
   "outputs": [
    {
     "ename": "ImportError",
     "evalue": "`save_weights` requires h5py.",
     "output_type": "error",
     "traceback": [
      "\u001b[1;31m---------------------------------------------------------------------------\u001b[0m",
      "\u001b[1;31mImportError\u001b[0m                               Traceback (most recent call last)",
      "\u001b[1;32m<ipython-input-11-31346fed4c11>\u001b[0m in \u001b[0;36m<module>\u001b[1;34m()\u001b[0m\n\u001b[1;32m----> 1\u001b[1;33m \u001b[0mmodel\u001b[0m\u001b[1;33m.\u001b[0m\u001b[0msave_weights\u001b[0m\u001b[1;33m(\u001b[0m\u001b[1;34m'first_try.h5'\u001b[0m\u001b[1;33m)\u001b[0m\u001b[1;33m\u001b[0m\u001b[0m\n\u001b[0m",
      "\u001b[1;32mc:\\programdata\\anaconda3\\envs\\tensorflow-gpu\\lib\\site-packages\\keras\\models.py\u001b[0m in \u001b[0;36msave_weights\u001b[1;34m(self, filepath, overwrite)\u001b[0m\n\u001b[0;32m    737\u001b[0m     \u001b[1;32mdef\u001b[0m \u001b[0msave_weights\u001b[0m\u001b[1;33m(\u001b[0m\u001b[0mself\u001b[0m\u001b[1;33m,\u001b[0m \u001b[0mfilepath\u001b[0m\u001b[1;33m,\u001b[0m \u001b[0moverwrite\u001b[0m\u001b[1;33m=\u001b[0m\u001b[1;32mTrue\u001b[0m\u001b[1;33m)\u001b[0m\u001b[1;33m:\u001b[0m\u001b[1;33m\u001b[0m\u001b[0m\n\u001b[0;32m    738\u001b[0m         \u001b[1;32mif\u001b[0m \u001b[0mh5py\u001b[0m \u001b[1;32mis\u001b[0m \u001b[1;32mNone\u001b[0m\u001b[1;33m:\u001b[0m\u001b[1;33m\u001b[0m\u001b[0m\n\u001b[1;32m--> 739\u001b[1;33m             \u001b[1;32mraise\u001b[0m \u001b[0mImportError\u001b[0m\u001b[1;33m(\u001b[0m\u001b[1;34m'`save_weights` requires h5py.'\u001b[0m\u001b[1;33m)\u001b[0m\u001b[1;33m\u001b[0m\u001b[0m\n\u001b[0m\u001b[0;32m    740\u001b[0m         \u001b[1;31m# If file exists and should not be overwritten:\u001b[0m\u001b[1;33m\u001b[0m\u001b[1;33m\u001b[0m\u001b[0m\n\u001b[0;32m    741\u001b[0m         \u001b[1;32mif\u001b[0m \u001b[1;32mnot\u001b[0m \u001b[0moverwrite\u001b[0m \u001b[1;32mand\u001b[0m \u001b[0mos\u001b[0m\u001b[1;33m.\u001b[0m\u001b[0mpath\u001b[0m\u001b[1;33m.\u001b[0m\u001b[0misfile\u001b[0m\u001b[1;33m(\u001b[0m\u001b[0mfilepath\u001b[0m\u001b[1;33m)\u001b[0m\u001b[1;33m:\u001b[0m\u001b[1;33m\u001b[0m\u001b[0m\n",
      "\u001b[1;31mImportError\u001b[0m: `save_weights` requires h5py."
     ]
    }
   ],
   "source": [
    "model.save_weights('first_try.h5')"
   ]
  },
  {
   "cell_type": "code",
   "execution_count": null,
   "metadata": {
    "collapsed": true
   },
   "outputs": [],
   "source": []
  }
 ],
 "metadata": {
  "kernelspec": {
   "display_name": "Python 3",
   "language": "python",
   "name": "python3"
  },
  "language_info": {
   "codemirror_mode": {
    "name": "ipython",
    "version": 3
   },
   "file_extension": ".py",
   "mimetype": "text/x-python",
   "name": "python",
   "nbconvert_exporter": "python",
   "pygments_lexer": "ipython3",
   "version": "3.5.2"
  }
 },
 "nbformat": 4,
 "nbformat_minor": 0
}
